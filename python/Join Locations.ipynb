{
 "cells": [
  {
   "cell_type": "code",
   "execution_count": null,
   "metadata": {},
   "outputs": [],
   "source": [
    "import dask.dataframe as dd\n",
    "import pandas as pd\n",
    "import numpy as np\n",
    "import dask\n",
    "\n",
    "from dask.distributed import Client\n",
    "from datetime import datetime\n",
    "\n",
    "client = Client(n_workers=3)\n",
    "\n",
    "# CADES configuration\n",
    "# from dask_jobqueue import SLURMCluster\n",
    "# cluster = SLURMCluster(project='covid19', queue='covid19', cores=30, memory='300 GB', job_extra=[\"-N 1\"], interface=\"ib0\")\n",
    "# client = Client(cluster)"
   ]
  },
  {
   "cell_type": "code",
   "execution_count": null,
   "metadata": {},
   "outputs": [],
   "source": [
    "def to_date(d):\n",
    "    if \":\" == d[-3:-2]:\n",
    "        d = d[:-3]+d[-2:]\n",
    "    return d"
   ]
  },
  {
   "cell_type": "code",
   "execution_count": null,
   "metadata": {},
   "outputs": [],
   "source": [
    "# poi = dd.read_csv(\"/lustre/or-hydra/cades-birthright/nickrobison/mobility-analysis/data/reference/core-poi-join/2020/**/core_poi*.csv\")\n",
    "poi = dd.read_csv(\"/Users/raac/Development/covid/core-poi-join/2020/06/**/core_poi*.csv\")\n",
    "poi = poi[['safegraph_place_id', 'latitude', 'longitude']]"
   ]
  },
  {
   "cell_type": "code",
   "execution_count": null,
   "metadata": {},
   "outputs": [],
   "source": [
    "poi = poi.drop_duplicates(['safegraph_place_id'])"
   ]
  },
  {
   "cell_type": "code",
   "execution_count": null,
   "metadata": {},
   "outputs": [],
   "source": [
    "def compute_location_cbg(df):\n",
    "    import geopandas as gpd\n",
    "    from shapely.geometry import Point\n",
    "    \n",
    "    localdf = df[['latitude', 'longitude']]\n",
    "    \n",
    "    cbgs = gpd.read_file(\"/Users/raac/Development/covid/mobility-analysis/data/reference/census/block_groups.shp\")\n",
    "    cbgs.crs = 'epsg:4269'\n",
    "    cbgs = cbgs.to_crs('epsg:4326')\n",
    "    local_gdf = gpd.GeoDataFrame(localdf, crs=\"epsg:4326\",\\\n",
    "                                       geometry=[Point(xy) for xy in \\\n",
    "                                                zip(localdf['longitude'], localdf['latitude'])])\n",
    "    local_gdf = gpd.sjoin(local_gdf, cbgs, how='left', op='within')\n",
    "    \n",
    "    return local_gdf.GEOID.rename('location_cbg')\n",
    "poi['location_cbg'] = poi.map_partitions(compute_location_cbg, meta=('location_cbg', 'str'))"
   ]
  },
  {
   "cell_type": "code",
   "execution_count": null,
   "metadata": {},
   "outputs": [],
   "source": [
    "poi.to_parquet(\"data/reference/Joined2.parquet\")"
   ]
  },
  {
   "cell_type": "code",
   "execution_count": null,
   "metadata": {},
   "outputs": [],
   "source": []
  }
 ],
 "metadata": {
  "kernelspec": {
   "display_name": "Python 3",
   "language": "python",
   "name": "python3"
  },
  "language_info": {
   "codemirror_mode": {
    "name": "ipython",
    "version": 3
   },
   "file_extension": ".py",
   "mimetype": "text/x-python",
   "name": "python",
   "nbconvert_exporter": "python",
   "pygments_lexer": "ipython3",
   "version": "3.8.5"
  }
 },
 "nbformat": 4,
 "nbformat_minor": 4
}
