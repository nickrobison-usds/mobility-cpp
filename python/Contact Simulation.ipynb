{
 "cells": [
  {
   "cell_type": "code",
   "execution_count": null,
   "metadata": {},
   "outputs": [],
   "source": [
    "import dask.dataframe as dd\n",
    "import pandas as pd\n",
    "import numpy as np\n",
    "import dask\n",
    "\n",
    "from dask.distributed import Client\n",
    "from datetime import datetime\n",
    "\n",
    "client = Client(n_workers=6)"
   ]
  },
  {
   "cell_type": "code",
   "execution_count": null,
   "metadata": {},
   "outputs": [],
   "source": [
    "patterns = dd.read_csv(\"../test-dir/safegraph/weekly-patterns/*.csv\", dtype={'poi_cbg': 'float64'})"
   ]
  },
  {
   "cell_type": "code",
   "execution_count": null,
   "metadata": {},
   "outputs": [],
   "source": [
    "df = patterns.repartition(10)\n",
    "df"
   ]
  },
  {
   "cell_type": "code",
   "execution_count": null,
   "metadata": {},
   "outputs": [],
   "source": [
    "import json\n",
    "\n",
    "df = df[['safegraph_place_id', 'bucketed_dwell_times', 'raw_visit_counts', 'median_dwell']]\n",
    "\n",
    "# Split the maps into arrays so we can sum over the \n",
    "def map_to_array(m):\n",
    "    l = m.translate(str\\\n",
    "        .maketrans({'{':'', '}':'','\"':''}))\\\n",
    "        .split(',')\n",
    "    \n",
    "    def splits(x):\n",
    "        s = x.split(':')\n",
    "        if len(s) == 2:\n",
    "            return s[1]\n",
    "        else:\n",
    "            return 0\n",
    "    \n",
    "    l = [splits(x) for x in l]\n",
    "    return np.array(l).astype(np.int32)\n",
    "    \n",
    "df['dwell_array'] = df['bucketed_dwell_times'].apply(map_to_array, meta=('bucketed_dwell_times', 'object'))\n",
    "df.head()"
   ]
  },
  {
   "cell_type": "code",
   "execution_count": null,
   "metadata": {},
   "outputs": [],
   "source": [
    "histogram = df['dwell_array'].values.sum().compute()"
   ]
  },
  {
   "cell_type": "code",
   "execution_count": null,
   "metadata": {},
   "outputs": [],
   "source": [
    "histogram\n",
    "vals = df['dwell_array'].values.compute()\n",
    "len(vals)"
   ]
  },
  {
   "cell_type": "code",
   "execution_count": null,
   "metadata": {},
   "outputs": [],
   "source": [
    "import matplotlib.pyplot as plt\n",
    "\n",
    "fig, ax = plt.subplots(tight_layout=True)\n",
    "ax.bar([\"<5\", \"5-20\", \"21-60\", \"61-240\", \">240\"], histogram)"
   ]
  },
  {
   "cell_type": "code",
   "execution_count": null,
   "metadata": {},
   "outputs": [],
   "source": [
    "import scipy.stats as sts\n",
    "# Ok, let's simulate\n",
    "N_SIMULATIONS = 10000\n",
    "# Bucket sizes, which are are based on the bucketed_dwell_time column\n",
    "bins = np.array([0, 5,  20,  60, 240, 500])\n",
    "\n",
    "def simulate(dwell_hist):\n",
    "    dwell_hist = np.array(dwell_hist).astype(np.int32)\n",
    "    # Sample from the input data to \n",
    "    sampled = np.random.choice(a=(bins[:-1] + bins[1:])/2, size=N_SIMULATIONS*5, p=dwell_hist / dwell_hist.sum())\n",
    "    try:        \n",
    "        # Create a linear space of 0-300 minutes\n",
    "        space = np.linspace(0, 300)\n",
    "        rkde = sts.gaussian_kde(sampled)\n",
    "        # Create a custom distribution from the KDE PDF for 0-300 minutes\n",
    "        pdf = rkde.pdf(space)\n",
    "        custm = sts.rv_discrete(name='custm', a=space.min(), b=space.max(), values=(space, pdf / pdf.sum()))\n",
    "        # Sample dwell times from custom distribution\n",
    "        sampled = np.array([ custm.rvs() for i in range(N_SIMULATIONS)])\n",
    "#         # Return the average dwell time\n",
    "        return sampled.mean()\n",
    "    except Exception as e:\n",
    "        print(e)\n",
    "        return 0\n",
    "    \n",
    "def prnt(x):\n",
    "    return np.array(x).astype(np.int32).sum()\n",
    "    \n",
    "def simulate_partition(df):\n",
    "    df['sampled'] = df.apply(lambda x: simulate(x.dwell_array), 1)\n",
    "    df['contact_sim'] = df.raw_visit_counts * df.sampled\n",
    "    df['contact_median'] = df.raw_visit_counts * df.median_dwell\n",
    "    return df\n",
    "\n",
    "test = df.drop('bucketed_dwell_times', axis=1)\n",
    "\n",
    "test = test.map_partitions(simulate_partition, meta={'safegraph_place_id': 'str', 'raw_visit_counts': 'int32', 'median_dwell': 'float', 'dwell_array': 'object', 'sampled': 'float', 'contact_sim': 'float', 'contact_median': 'float'})"
   ]
  },
  {
   "cell_type": "code",
   "execution_count": null,
   "metadata": {},
   "outputs": [],
   "source": [
    "test.compute()"
   ]
  },
  {
   "cell_type": "code",
   "execution_count": null,
   "metadata": {},
   "outputs": [],
   "source": [
    "arry = np.array([2, 15, 7, 13, 22])\n",
    "arry / arry.sum()"
   ]
  },
  {
   "cell_type": "code",
   "execution_count": null,
   "metadata": {},
   "outputs": [],
   "source": [
    "plt.figure(figsize=(8,6))\n",
    "hist, e = np.histogram([2, 15, 7, 13, 22], bins=[0, 5, 20, 60, 240, 500], density=True)\n",
    "plt.bar([\"<5\", \"5-20\", \"21-60\", \"61-240\", \">240\"], hist)\n",
    "x = np.linspace(0, 500, 500)\n",
    "plt.plot(x, sim.pdf(x), '--', c='C3', lw=4, label='resampled KDE')\n",
    "# plt.title('n = %d' % n)\n",
    "plt.legend()\n",
    "plt.show()\n",
    "sim.pdf(x)"
   ]
  },
  {
   "cell_type": "code",
   "execution_count": null,
   "metadata": {},
   "outputs": [],
   "source": [
    "plt.figure(figsize=(8,6))\n",
    "hist, e= np.histogram([2, 15, 7, 13, 22], bins=[5, 20, 60, 240, 500])\n",
    "plt.hist(hist)"
   ]
  },
  {
   "cell_type": "code",
   "execution_count": null,
   "metadata": {},
   "outputs": [],
   "source": [
    "plt.figure(figsize=(8,6))\n",
    "plt.bar(e[:-1], hist, width=[5, 10, 15, 20], ec='k', align='edge', label='histogram')"
   ]
  },
  {
   "cell_type": "code",
   "execution_count": null,
   "metadata": {},
   "outputs": [],
   "source": [
    "bins = np.array([0, 5,  20,  60, 240, 500])\n",
    "(bins[:-1] + bins[1:])/2"
   ]
  },
  {
   "cell_type": "code",
   "execution_count": null,
   "metadata": {},
   "outputs": [],
   "source": []
  }
 ],
 "metadata": {
  "kernelspec": {
   "display_name": "Python 3",
   "language": "python",
   "name": "python3"
  },
  "language_info": {
   "codemirror_mode": {
    "name": "ipython",
    "version": 3
   },
   "file_extension": ".py",
   "mimetype": "text/x-python",
   "name": "python",
   "nbconvert_exporter": "python",
   "pygments_lexer": "ipython3",
   "version": "3.8.5"
  }
 },
 "nbformat": 4,
 "nbformat_minor": 4
}
